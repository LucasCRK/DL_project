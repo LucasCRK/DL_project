{
  "nbformat": 4,
  "nbformat_minor": 0,
  "metadata": {
    "colab": {
      "name": "DL-Project.ipynb",
      "provenance": [],
      "collapsed_sections": [],
      "include_colab_link": true
    },
    "kernelspec": {
      "name": "python3",
      "display_name": "Python 3"
    },
    "widgets": {
      "application/vnd.jupyter.widget-state+json": {
        "a192c03802514892960140d91120559a": {
          "model_module": "@jupyter-widgets/controls",
          "model_name": "HBoxModel",
          "state": {
            "_view_name": "HBoxView",
            "_dom_classes": [],
            "_model_name": "HBoxModel",
            "_view_module": "@jupyter-widgets/controls",
            "_model_module_version": "1.5.0",
            "_view_count": null,
            "_view_module_version": "1.5.0",
            "box_style": "",
            "layout": "IPY_MODEL_e19981e0ed0a41029d306572e88d28be",
            "_model_module": "@jupyter-widgets/controls",
            "children": [
              "IPY_MODEL_bc2c38067a4b4b0da7a47275d4674bed",
              "IPY_MODEL_c68e6320635e46e2ae0f51ff85c64873"
            ]
          }
        },
        "e19981e0ed0a41029d306572e88d28be": {
          "model_module": "@jupyter-widgets/base",
          "model_name": "LayoutModel",
          "state": {
            "_view_name": "LayoutView",
            "grid_template_rows": null,
            "right": null,
            "justify_content": null,
            "_view_module": "@jupyter-widgets/base",
            "overflow": null,
            "_model_module_version": "1.2.0",
            "_view_count": null,
            "flex_flow": null,
            "width": null,
            "min_width": null,
            "border": null,
            "align_items": null,
            "bottom": null,
            "_model_module": "@jupyter-widgets/base",
            "top": null,
            "grid_column": null,
            "overflow_y": null,
            "overflow_x": null,
            "grid_auto_flow": null,
            "grid_area": null,
            "grid_template_columns": null,
            "flex": null,
            "_model_name": "LayoutModel",
            "justify_items": null,
            "grid_row": null,
            "max_height": null,
            "align_content": null,
            "visibility": null,
            "align_self": null,
            "height": null,
            "min_height": null,
            "padding": null,
            "grid_auto_rows": null,
            "grid_gap": null,
            "max_width": null,
            "order": null,
            "_view_module_version": "1.2.0",
            "grid_template_areas": null,
            "object_position": null,
            "object_fit": null,
            "grid_auto_columns": null,
            "margin": null,
            "display": null,
            "left": null
          }
        },
        "bc2c38067a4b4b0da7a47275d4674bed": {
          "model_module": "@jupyter-widgets/controls",
          "model_name": "FloatProgressModel",
          "state": {
            "_view_name": "ProgressView",
            "style": "IPY_MODEL_9f81ba30d04347e887dda1d4aabb9473",
            "_dom_classes": [],
            "description": "100%",
            "_model_name": "FloatProgressModel",
            "bar_style": "success",
            "max": 745,
            "_view_module": "@jupyter-widgets/controls",
            "_model_module_version": "1.5.0",
            "value": 745,
            "_view_count": null,
            "_view_module_version": "1.5.0",
            "orientation": "horizontal",
            "min": 0,
            "description_tooltip": null,
            "_model_module": "@jupyter-widgets/controls",
            "layout": "IPY_MODEL_3bcd9175057f48a7b25fbc175de06fa5"
          }
        },
        "c68e6320635e46e2ae0f51ff85c64873": {
          "model_module": "@jupyter-widgets/controls",
          "model_name": "HTMLModel",
          "state": {
            "_view_name": "HTMLView",
            "style": "IPY_MODEL_242c8feed0064dd886f7b644cdc8c3e9",
            "_dom_classes": [],
            "description": "",
            "_model_name": "HTMLModel",
            "placeholder": "​",
            "_view_module": "@jupyter-widgets/controls",
            "_model_module_version": "1.5.0",
            "value": " 745/745 [05:14&lt;00:00,  2.37it/s]",
            "_view_count": null,
            "_view_module_version": "1.5.0",
            "description_tooltip": null,
            "_model_module": "@jupyter-widgets/controls",
            "layout": "IPY_MODEL_12734e9617ee4de48c7e75275e394732"
          }
        },
        "9f81ba30d04347e887dda1d4aabb9473": {
          "model_module": "@jupyter-widgets/controls",
          "model_name": "ProgressStyleModel",
          "state": {
            "_view_name": "StyleView",
            "_model_name": "ProgressStyleModel",
            "description_width": "initial",
            "_view_module": "@jupyter-widgets/base",
            "_model_module_version": "1.5.0",
            "_view_count": null,
            "_view_module_version": "1.2.0",
            "bar_color": null,
            "_model_module": "@jupyter-widgets/controls"
          }
        },
        "3bcd9175057f48a7b25fbc175de06fa5": {
          "model_module": "@jupyter-widgets/base",
          "model_name": "LayoutModel",
          "state": {
            "_view_name": "LayoutView",
            "grid_template_rows": null,
            "right": null,
            "justify_content": null,
            "_view_module": "@jupyter-widgets/base",
            "overflow": null,
            "_model_module_version": "1.2.0",
            "_view_count": null,
            "flex_flow": null,
            "width": null,
            "min_width": null,
            "border": null,
            "align_items": null,
            "bottom": null,
            "_model_module": "@jupyter-widgets/base",
            "top": null,
            "grid_column": null,
            "overflow_y": null,
            "overflow_x": null,
            "grid_auto_flow": null,
            "grid_area": null,
            "grid_template_columns": null,
            "flex": null,
            "_model_name": "LayoutModel",
            "justify_items": null,
            "grid_row": null,
            "max_height": null,
            "align_content": null,
            "visibility": null,
            "align_self": null,
            "height": null,
            "min_height": null,
            "padding": null,
            "grid_auto_rows": null,
            "grid_gap": null,
            "max_width": null,
            "order": null,
            "_view_module_version": "1.2.0",
            "grid_template_areas": null,
            "object_position": null,
            "object_fit": null,
            "grid_auto_columns": null,
            "margin": null,
            "display": null,
            "left": null
          }
        },
        "242c8feed0064dd886f7b644cdc8c3e9": {
          "model_module": "@jupyter-widgets/controls",
          "model_name": "DescriptionStyleModel",
          "state": {
            "_view_name": "StyleView",
            "_model_name": "DescriptionStyleModel",
            "description_width": "",
            "_view_module": "@jupyter-widgets/base",
            "_model_module_version": "1.5.0",
            "_view_count": null,
            "_view_module_version": "1.2.0",
            "_model_module": "@jupyter-widgets/controls"
          }
        },
        "12734e9617ee4de48c7e75275e394732": {
          "model_module": "@jupyter-widgets/base",
          "model_name": "LayoutModel",
          "state": {
            "_view_name": "LayoutView",
            "grid_template_rows": null,
            "right": null,
            "justify_content": null,
            "_view_module": "@jupyter-widgets/base",
            "overflow": null,
            "_model_module_version": "1.2.0",
            "_view_count": null,
            "flex_flow": null,
            "width": null,
            "min_width": null,
            "border": null,
            "align_items": null,
            "bottom": null,
            "_model_module": "@jupyter-widgets/base",
            "top": null,
            "grid_column": null,
            "overflow_y": null,
            "overflow_x": null,
            "grid_auto_flow": null,
            "grid_area": null,
            "grid_template_columns": null,
            "flex": null,
            "_model_name": "LayoutModel",
            "justify_items": null,
            "grid_row": null,
            "max_height": null,
            "align_content": null,
            "visibility": null,
            "align_self": null,
            "height": null,
            "min_height": null,
            "padding": null,
            "grid_auto_rows": null,
            "grid_gap": null,
            "max_width": null,
            "order": null,
            "_view_module_version": "1.2.0",
            "grid_template_areas": null,
            "object_position": null,
            "object_fit": null,
            "grid_auto_columns": null,
            "margin": null,
            "display": null,
            "left": null
          }
        }
      }
    }
  },
  "cells": [
    {
      "cell_type": "markdown",
      "metadata": {
        "id": "view-in-github",
        "colab_type": "text"
      },
      "source": [
        "<a href=\"https://colab.research.google.com/github/LucasCRK/DL_project/blob/master/DL_Project.ipynb\" target=\"_parent\"><img src=\"https://colab.research.google.com/assets/colab-badge.svg\" alt=\"Open In Colab\"/></a>"
      ]
    },
    {
      "cell_type": "markdown",
      "metadata": {
        "id": "YhNopPQExo1s",
        "colab_type": "text"
      },
      "source": [
        "There is no way to easily save variable state so I thik we just have to be careful to save regurlaly the model.\n"
      ]
    },
    {
      "cell_type": "code",
      "metadata": {
        "id": "QqZAgjPvnjJF",
        "colab_type": "code",
        "colab": {
          "base_uri": "https://localhost:8080/",
          "height": 408
        },
        "outputId": "b06e3f76-f809-4b24-9859-7263a4c06f5f"
      },
      "source": [
        "!pip install dgl\n",
        "!pip install networkx\n",
        "!pip install pin\n",
        "!pip install gdown"
      ],
      "execution_count": 1,
      "outputs": [
        {
          "output_type": "stream",
          "text": [
            "Requirement already satisfied: dgl in /usr/local/lib/python3.6/dist-packages (0.4.3.post2)\n",
            "Requirement already satisfied: numpy>=1.14.0 in /usr/local/lib/python3.6/dist-packages (from dgl) (1.18.5)\n",
            "Requirement already satisfied: requests>=2.19.0 in /usr/local/lib/python3.6/dist-packages (from dgl) (2.23.0)\n",
            "Requirement already satisfied: scipy>=1.1.0 in /usr/local/lib/python3.6/dist-packages (from dgl) (1.4.1)\n",
            "Requirement already satisfied: networkx>=2.1 in /usr/local/lib/python3.6/dist-packages (from dgl) (2.4)\n",
            "Requirement already satisfied: certifi>=2017.4.17 in /usr/local/lib/python3.6/dist-packages (from requests>=2.19.0->dgl) (2020.6.20)\n",
            "Requirement already satisfied: idna<3,>=2.5 in /usr/local/lib/python3.6/dist-packages (from requests>=2.19.0->dgl) (2.10)\n",
            "Requirement already satisfied: urllib3!=1.25.0,!=1.25.1,<1.26,>=1.21.1 in /usr/local/lib/python3.6/dist-packages (from requests>=2.19.0->dgl) (1.24.3)\n",
            "Requirement already satisfied: chardet<4,>=3.0.2 in /usr/local/lib/python3.6/dist-packages (from requests>=2.19.0->dgl) (3.0.4)\n",
            "Requirement already satisfied: decorator>=4.3.0 in /usr/local/lib/python3.6/dist-packages (from networkx>=2.1->dgl) (4.4.2)\n",
            "Requirement already satisfied: networkx in /usr/local/lib/python3.6/dist-packages (2.4)\n",
            "Requirement already satisfied: decorator>=4.3.0 in /usr/local/lib/python3.6/dist-packages (from networkx) (4.4.2)\n",
            "Collecting pin\n",
            "  Using cached https://files.pythonhosted.org/packages/cf/81/f69af6685a26b435558bb7aead39127c38ce7dddb8d734a13db88ae3b9f8/pin-0.1rc1.tar.gz\n",
            "\u001b[31mERROR: Command errored out with exit status 1: python setup.py egg_info Check the logs for full command output.\u001b[0m\n",
            "Requirement already satisfied: gdown in /usr/local/lib/python3.6/dist-packages (3.6.4)\n",
            "Requirement already satisfied: six in /usr/local/lib/python3.6/dist-packages (from gdown) (1.15.0)\n",
            "Requirement already satisfied: requests in /usr/local/lib/python3.6/dist-packages (from gdown) (2.23.0)\n",
            "Requirement already satisfied: tqdm in /usr/local/lib/python3.6/dist-packages (from gdown) (4.41.1)\n",
            "Requirement already satisfied: chardet<4,>=3.0.2 in /usr/local/lib/python3.6/dist-packages (from requests->gdown) (3.0.4)\n",
            "Requirement already satisfied: idna<3,>=2.5 in /usr/local/lib/python3.6/dist-packages (from requests->gdown) (2.10)\n",
            "Requirement already satisfied: urllib3!=1.25.0,!=1.25.1,<1.26,>=1.21.1 in /usr/local/lib/python3.6/dist-packages (from requests->gdown) (1.24.3)\n",
            "Requirement already satisfied: certifi>=2017.4.17 in /usr/local/lib/python3.6/dist-packages (from requests->gdown) (2020.6.20)\n"
          ],
          "name": "stdout"
        }
      ]
    },
    {
      "cell_type": "code",
      "metadata": {
        "id": "yH9127dpkxxg",
        "colab_type": "code",
        "colab": {
          "base_uri": "https://localhost:8080/",
          "height": 122
        },
        "outputId": "76f120e7-d697-4397-ae9d-7f3b66a70f48"
      },
      "source": [
        "from google.colab import drive\n",
        "drive.mount('/content/drive/')"
      ],
      "execution_count": 2,
      "outputs": [
        {
          "output_type": "stream",
          "text": [
            "Go to this URL in a browser: https://accounts.google.com/o/oauth2/auth?client_id=947318989803-6bn6qk8qdgf4n4g3pfee6491hc0brc4i.apps.googleusercontent.com&redirect_uri=urn%3aietf%3awg%3aoauth%3a2.0%3aoob&scope=email%20https%3a%2f%2fwww.googleapis.com%2fauth%2fdocs.test%20https%3a%2f%2fwww.googleapis.com%2fauth%2fdrive%20https%3a%2f%2fwww.googleapis.com%2fauth%2fdrive.photos.readonly%20https%3a%2f%2fwww.googleapis.com%2fauth%2fpeopleapi.readonly&response_type=code\n",
            "\n",
            "Enter your authorization code:\n",
            "··········\n",
            "Mounted at /content/drive/\n"
          ],
          "name": "stdout"
        }
      ]
    },
    {
      "cell_type": "code",
      "metadata": {
        "id": "WQfzuSjYFNCo",
        "colab_type": "code",
        "colab": {
          "base_uri": "https://localhost:8080/",
          "height": 34
        },
        "outputId": "60949826-5244-4fba-b89b-e83abb5761d5"
      },
      "source": [
        "#Lucas experimenting in how to build graphs\n",
        "import glob\n",
        "import json\n",
        "import numpy as np\n",
        "import networkx as nx\n",
        "import torch as th\n",
        "import matplotlib.pyplot as plt\n",
        "#from pin import ProteinGraph\n",
        "import pandas as pd\n",
        "#from Bio.PDB import PDBList, PDBIO, PDBParser\n",
        "import os\n",
        "from networkx.readwrite import json_graph\n",
        "import json\n",
        "import networkx as nx\n",
        "import dgl\n",
        "import torch.nn as nn\n",
        "import torch.nn.functional as F\n",
        "from dgl.nn.pytorch import GATConv\n",
        "import torch.optim as optim\n",
        "from torch.utils.data import Dataset, DataLoader\n",
        "from tqdm.notebook import tqdm\n"
      ],
      "execution_count": 2,
      "outputs": [
        {
          "output_type": "stream",
          "text": [
            "Using backend: pytorch\n"
          ],
          "name": "stderr"
        }
      ]
    },
    {
      "cell_type": "code",
      "metadata": {
        "id": "B_9djGzG6Yky",
        "colab_type": "code",
        "colab": {
          "base_uri": "https://localhost:8080/",
          "height": 54
        },
        "outputId": "595b9bfa-d10f-4a0d-f113-692aa37836d1"
      },
      "source": [
        "!unzip '/content/drive/My Drive/Ziv/courses/ML/DL_project/json-20200813T133030Z-001.zip'"
      ],
      "execution_count": 4,
      "outputs": [
        {
          "output_type": "stream",
          "text": [
            "unzip:  cannot find or open /content/drive/My Drive/Ziv/courses/ML/DL_project/json-20200813T133030Z-001.zip, /content/drive/My Drive/Ziv/courses/ML/DL_project/json-20200813T133030Z-001.zip.zip or /content/drive/My Drive/Ziv/courses/ML/DL_project/json-20200813T133030Z-001.zip.ZIP.\n"
          ],
          "name": "stdout"
        }
      ]
    },
    {
      "cell_type": "code",
      "metadata": {
        "id": "Z8DuI7UoELTp",
        "colab_type": "code",
        "colab": {
          "base_uri": "https://localhost:8080/",
          "height": 34
        },
        "outputId": "bd0e2443-2cef-470d-a9a1-c2d6a5b14992"
      },
      "source": [
        "json_files = glob.glob(\"/content/drive/My Drive/PhD/Homework/DL_project/data/json/*.json\")\n",
        "\n",
        "#json_files = glob.glob(\"/content/drive/My Drive/Ziv/courses/ML/DL_project/json/*.json\")\n",
        "#print(len(json_files))\n",
        "with open(json_files[2], 'r') as json_file:\n",
        "  print(json_files[2])\n",
        "  data = json.load(json_file) \n",
        "  graph = json.loads(data[0])\n",
        "  labels = json.loads(data[1])\n"
      ],
      "execution_count": 14,
      "outputs": [
        {
          "output_type": "stream",
          "text": [
            "/content/drive/My Drive/PhD/Homework/DL_project/data/json/1ls3.json\n"
          ],
          "name": "stdout"
        }
      ]
    },
    {
      "cell_type": "code",
      "metadata": {
        "id": "oMr77uHZLd4S",
        "colab_type": "code",
        "colab": {
          "base_uri": "https://localhost:8080/",
          "height": 55
        },
        "outputId": "8b550066-fb40-4772-df4f-8ef10d8c6211"
      },
      "source": [
        "'''with open(json_files[0],'r') as jfile:\n",
        "  graph = nx.node_link_graph(graph)\n",
        "  g = dgl.DGLGraph()\n",
        "  g.from_networkx(graph,node_attrs=['features','x','y','chain_id'],edge_attrs=['features'])'''"
      ],
      "execution_count": null,
      "outputs": [
        {
          "output_type": "execute_result",
          "data": {
            "application/vnd.google.colaboratory.intrinsic+json": {
              "type": "string"
            },
            "text/plain": [
              "\"with open(json_files[0],'r') as jfile:\\n  graph = nx.node_link_graph(graph)\\n  g = dgl.DGLGraph()\\n  g.from_networkx(graph,node_attrs=['features','x','y','chain_id'],edge_attrs=['features'])\""
            ]
          },
          "metadata": {
            "tags": []
          },
          "execution_count": 69
        }
      ]
    },
    {
      "cell_type": "code",
      "metadata": {
        "id": "WIQ9gmwvUUNb",
        "colab_type": "code",
        "colab": {
          "base_uri": "https://localhost:8080/",
          "height": 105
        },
        "outputId": "aa045b16-c6db-47b0-a4ef-a0a704412784"
      },
      "source": [
        "src = list()\n",
        "dst = list()\n",
        "\n",
        "# Get source and destination of edges\n",
        "for i in  graph[\"links\"]:\n",
        "  src.append(i['source'])\n",
        "  dst.append(i['target'])\n",
        "residues = list(sorted(set(src + dst)))\n",
        "# Creat map of AA number to nodes with starting idx 0\n",
        "node_idx  = 0\n",
        "previous_aa = residues[0]\n",
        "residue_map = dict()\n",
        "for i in range(0, len(residues)):\n",
        "  if residues[i] != previous_aa:\n",
        "    node_idx += 1\n",
        "  residue_map[residues[i]] = node_idx\n",
        "  \n",
        "  previous_aa = residues[i]\n",
        "# DGL graph has to start at 0 renumber AA\n",
        "src = np.array([residue_map[i] for i in src])\n",
        "dst = np.array([residue_map[i] for i in dst])\n",
        "print(residue_map)\n",
        "print(len(residues))\n",
        "print(src)\n",
        "print(dst)\n",
        "#sorted(node_map.keys())"
      ],
      "execution_count": 153,
      "outputs": [
        {
          "output_type": "stream",
          "text": [
            "{'A-10ALA': 0, 'A-3GLN': 1, 'A-4GLU': 2, 'A-5HIS': 3, 'A-6SER': 4, 'A-7SER': 5, 'A-8TRP': 6, 'A-9LEU': 7, 'A100PRO': 8, 'A101ALA': 9, 'A102ASN': 10, 'A103PHE': 11, 'A104ALA': 12, 'A105VAL': 13, 'A106TYR': 14, 'A107THR': 15, 'A108ALA': 16, 'A109LEU': 17, 'A10ASP': 18, 'A110VAL': 19, 'A111GLU': 20, 'A112HIS': 21, 'A112PRO': 22, 'A113GLY': 23, 'A115ARG': 24, 'A116ILE': 25, 'A117MET': 26, 'A118GLY': 27, 'A119LEU': 28, 'A11SER': 29, 'A120ASP': 30, 'A121LEU': 31, 'A122PRO': 32, 'A123ASP': 33, 'A124GLY': 34, 'A125GLY': 35, 'A126HIS': 36, 'A127LEU': 37, 'A128THR': 38, 'A129HIS': 39, 'A12ASP': 40, 'A130GLY': 41, 'A131PHE': 42, 'A132MET': 43, 'A133THR': 44, 'A134ASP': 45, 'A134LYS': 46, 'A135ILE': 47, 'A136SER': 48, 'A137ALA': 49, 'A138SER': 50, 'A138THR': 51, 'A139ILE': 52, 'A13ALA': 53, 'A140PHE': 54, 'A141GLU': 55, 'A142SER': 56, 'A143MET': 57, 'A144ALA': 58, 'A145TYR': 59, 'A146LYS': 60, 'A147VAL': 61, 'A148ASN': 62, 'A149ASP': 63, 'A149PRO': 64, 'A14GLU': 65, 'A150THR': 66, 'A151GLY': 67, 'A152TYR': 68, 'A153ILE': 69, 'A154ASP': 70, 'A155TYR': 71, 'A156ASP': 72, 'A157ARG': 73, 'A158LEU': 74, 'A159GLU': 75, 'A15VAL': 76, 'A160GLU': 77, 'A161ASN': 78, 'A162ALA': 79, 'A163ARG': 80, 'A164LEU': 81, 'A165PHE': 82, 'A166HIS': 83, 'A167PRO': 84, 'A168LYS': 85, 'A169LEU': 86, 'A16TYR': 87, 'A170ILE': 88, 'A171ILE': 89, 'A172ALA': 90, 'A173GLY': 91, 'A174THR': 92, 'A175SER': 93, 'A176CYS': 94, 'A177TYR': 95, 'A178SER': 96, 'A179ARG': 97, 'A17ASP': 98, 'A180ASN': 99, 'A181LEU': 100, 'A182ASP': 101, 'A183TYR': 102, 'A184GLY': 103, 'A185ARG': 104, 'A186LEU': 105, 'A187ARG': 106, 'A188LYS': 107, 'A189ILE': 108, 'A18ILE': 109, 'A190ALA': 110, 'A191ASP': 111, 'A192GLU': 112, 'A193ASN': 113, 'A194GLY': 114, 'A195ALA': 115, 'A196TYR': 116, 'A197LEU': 117, 'A198MET': 118, 'A199ALA': 119, 'A19ILE': 120, 'A1MET': 121, 'A200ASP': 122, 'A201MET': 123, 'A202ALA': 124, 'A203HIS': 125, 'A204ILE': 126, 'A205SER': 127, 'A206GLY': 128, 'A207LEU': 129, 'A208VAL': 130, 'A209VAL': 131, 'A20LYS': 132, 'A210ALA': 133, 'A211GLY': 134, 'A212VAL': 135, 'A213VAL': 136, 'A214PRO': 137, 'A215SER': 138, 'A216PRO': 139, 'A217PHE': 140, 'A218GLU': 141, 'A219HIS': 142, 'A21LYS': 143, 'A220CYS': 144, 'A221HIS': 145, 'A222VAL': 146, 'A223VAL': 147, 'A224THR': 148, 'A225THR': 149, 'A226THR': 150, 'A227THR': 151, 'A228HIS': 152, 'A229LYS': 153, 'A22GLU': 154, 'A230THR': 155, 'A231LEU': 156, 'A232ARG': 157, 'A233GLY': 158, 'A234CYS': 159, 'A235ARG': 160, 'A236ALA': 161, 'A237GLY': 162, 'A238MET': 163, 'A239ILE': 164, 'A23SER': 165, 'A240PHE': 166, 'A241TYR': 167, 'A242ARG': 168, 'A243ARG': 169, 'A244ARG': 170, 'A244ASP': 171, 'A244GLY': 172, 'A244SER': 173, 'A244VAL': 174, 'A248LEU': 175, 'A249TYR': 176, 'A24ASN': 177, 'A250ASN': 178, 'A250GLU': 179, 'A250LEU': 180, 'A251SER': 181, 'A252ILE': 182, 'A252LEU': 183, 'A253ASN': 184, 'A254SER': 185, 'A255ALA': 186, 'A256VAL': 187, 'A257PHE': 188, 'A258PRO': 189, 'A259GLY': 190, 'A25ARG': 191, 'A260LEU': 192, 'A261GLN': 193, 'A262GLY': 194, 'A263GLY': 195, 'A264PRO': 196, 'A265HIS': 197, 'A266ASN': 198, 'A267HIS': 199, 'A268ALA': 200, 'A269ILE': 201, 'A26GLN': 202, 'A270ALA': 203, 'A271GLY': 204, 'A272VAL': 205, 'A273ALA': 206, 'A274VAL': 207, 'A275ALA': 208, 'A276LEU': 209, 'A277LYS': 210, 'A278GLN': 211, 'A279ALA': 212, 'A27ARG': 213, 'A280MET': 214, 'A281THR': 215, 'A282PRO': 216, 'A283GLU': 217, 'A284PHE': 218, 'A285LYS': 219, 'A286GLU': 220, 'A287TYR': 221, 'A288GLN': 222, 'A289ARG': 223, 'A28VAL': 224, 'A290GLN': 225, 'A291VAL': 226, 'A292VAL': 227, 'A293ALA': 228, 'A294ASN': 229, 'A295CYS': 230, 'A296ARG': 231, 'A297ALA': 232, 'A298LEU': 233, 'A299SER': 234, 'A29GLY': 235, 'A2LEU': 236, 'A300ALA': 237, 'A301ALA': 238, 'A302LEU': 239, 'A303VAL': 240, 'A304GLU': 241, 'A305LEU': 242, 'A306GLY': 243, 'A307TYR': 244, 'A308LYS': 245, 'A309ILE': 246, 'A30LEU': 247, 'A310VAL': 248, 'A311THR': 249, 'A312GLY': 250, 'A313GLY': 251, 'A314SER': 252, 'A315ASP': 253, 'A316ASN': 254, 'A317HIS': 255, 'A318LEU': 256, 'A319ILE': 257, 'A31GLU': 258, 'A320LEU': 259, 'A321VAL': 260, 'A322ASP': 261, 'A323LEU': 262, 'A324ARG': 263, 'A325SER': 264, 'A326LYS': 265, 'A327GLY': 266, 'A328THR': 267, 'A329ASP': 268, 'A32LEU': 269, 'A330GLY': 270, 'A331GLY': 271, 'A332ARG': 272, 'A333ALA': 273, 'A334GLU': 274, 'A335LYS': 275, 'A336VAL': 276, 'A337LEU': 277, 'A338GLU': 278, 'A339ALA': 279, 'A33ILE': 280, 'A340CYS': 281, 'A341SER': 282, 'A342ILE': 283, 'A343ALA': 284, 'A344CYS': 285, 'A345ASN': 286, 'A346LYS': 287, 'A347ASN': 288, 'A348THR': 289, 'A349CYS': 290, 'A34ALA': 291, 'A350PRO': 292, 'A351GLY': 293, 'A352ASP': 294, 'A354LYS': 295, 'A355SER': 296, 'A356ALA': 297, 'A357LEU': 298, 'A358ARG': 299, 'A359PRO': 300, 'A35SER': 301, 'A360SER': 302, 'A361GLY': 303, 'A362LEU': 304, 'A363ARG': 305, 'A364LEU': 306, 'A365GLY': 307, 'A366THR': 308, 'A367PRO': 309, 'A368ALA': 310, 'A369LEU': 311, 'A36GLU': 312, 'A370THR': 313, 'A371SER': 314, 'A372ARG': 315, 'A373GLY': 316, 'A374GLU': 317, 'A374LEU': 318, 'A375LYS': 319, 'A376ASP': 320, 'A377PHE': 321, 'A378GLN': 322, 'A37ASN': 323, 'A382VAL': 324, 'A383ALA': 325, 'A384HIS': 326, 'A385PHE': 327, 'A386ILE': 328, 'A387HIS': 329, 'A388ARG': 330, 'A389GLY': 331, 'A38PHE': 332, 'A390ILE': 333, 'A391GLU': 334, 'A391LEU': 335, 'A392THR': 336, 'A393VAL': 337, 'A394ASP': 338, 'A394GLN': 339, 'A394ILE': 340, 'A395ASP': 341, 'A396ARG': 342, 'A396GLY': 343, 'A396PRO': 344, 'A396THR': 345, 'A397ALA': 346, 'A398THR': 347, 'A399GLU': 348, 'A399LEU': 349, 'A399LYS': 350, 'A399PHE': 351, 'A39ALA': 352, 'A3ALA': 353, 'A400GLU': 354, 'A401LYS': 355, 'A402LEU': 356, 'A403ALA': 357, 'A404ASP': 358, 'A404GLU': 359, 'A404GLY': 360, 'A405LYS': 361, 'A406GLN': 362, 'A406HIS': 363, 'A407ARG': 364, 'A408ALA': 365, 'A409VAL': 366, 'A40SER': 367, 'A410ARG': 368, 'A411ALA': 369, 'A411LEU': 370, 'A412ARG': 371, 'A413GLN': 372, 'A414GLU': 373, 'A415GLU': 374, 'A415SER': 375, 'A415VAL': 376, 'A416PHE': 377, 'A417ALA': 378, 'A418ALA': 379, 'A418GLY': 380, 'A418LEU': 381, 'A418PHE': 382, 'A418PRO': 383, 'A41ARG': 384, 'A42ALA': 385, 'A43VAL': 386, 'A44LEU': 387, 'A45GLU': 388, 'A46ALA': 389, 'A47LEU': 390, 'A48GLY': 391, 'A49SER': 392, 'A4GLN': 393, 'A50CYS': 394, 'A51LEU': 395, 'A52ASN': 396, 'A53ASN': 397, 'A54LYS': 398, 'A55TYR': 399, 'A56SER': 400, 'A57GLU': 401, 'A58GLY': 402, 'A59TYR': 403, 'A5PRO': 404, 'A60PRO': 405, 'A61GLY': 406, 'A62GLN': 407, 'A63ARG': 408, 'A64TYR': 409, 'A65TYR': 410, 'A66GLY': 411, 'A67GLY': 412, 'A68THR': 413, 'A69GLU': 414, 'A6LEU': 415, 'A70HIS': 416, 'A71ILE': 417, 'A72ASP': 418, 'A73GLU': 419, 'A74LEU': 420, 'A75GLU': 421, 'A76THR': 422, 'A77LEU': 423, 'A78CYS': 424, 'A79GLN': 425, 'A7LYS': 426, 'A80LYS': 427, 'A81ARG': 428, 'A82ALA': 429, 'A83LEU': 430, 'A84GLN': 431, 'A85ALA': 432, 'A86TYR': 433, 'A87GLY': 434, 'A88LEU': 435, 'A89ASP': 436, 'A89CYS': 437, 'A89GLN': 438, 'A89PRO': 439, 'A90TRP': 440, 'A91GLY': 441, 'A91VAL': 442, 'A92ASN': 443, 'A93VAL': 444, 'A94GLN': 445, 'A95PRO': 446, 'A96TYR': 447, 'A97SER': 448, 'A98GLY': 449, 'A99SER': 450, 'B-3GLN': 451, 'B-4GLU': 452, 'B-5HIS': 453, 'B-6SER': 454, 'B-7SER': 455, 'B-8TRP': 456, 'B100PRO': 457, 'B101ALA': 458, 'B102ASN': 459, 'B103PHE': 460, 'B104ALA': 461, 'B105VAL': 462, 'B106TYR': 463, 'B107THR': 464, 'B108ALA': 465, 'B109LEU': 466, 'B10ASP': 467, 'B110VAL': 468, 'B111GLU': 469, 'B112HIS': 470, 'B112PRO': 471, 'B113GLY': 472, 'B115ARG': 473, 'B116ILE': 474, 'B117MET': 475, 'B118GLY': 476, 'B119LEU': 477, 'B11SER': 478, 'B120ASP': 479, 'B121LEU': 480, 'B122PRO': 481, 'B123ASP': 482, 'B124GLY': 483, 'B125GLY': 484, 'B126HIS': 485, 'B127LEU': 486, 'B128THR': 487, 'B129HIS': 488, 'B12ASP': 489, 'B130GLY': 490, 'B131PHE': 491, 'B132MET': 492, 'B133THR': 493, 'B134ASP': 494, 'B134LYS': 495, 'B135ILE': 496, 'B136SER': 497, 'B137ALA': 498, 'B138SER': 499, 'B138THR': 500, 'B139ILE': 501, 'B13ALA': 502, 'B140PHE': 503, 'B141GLU': 504, 'B142SER': 505, 'B143MET': 506, 'B144ALA': 507, 'B145TYR': 508, 'B146LYS': 509, 'B147VAL': 510, 'B148ASN': 511, 'B149ASP': 512, 'B149PRO': 513, 'B14GLU': 514, 'B150THR': 515, 'B151GLY': 516, 'B152TYR': 517, 'B153ILE': 518, 'B154ASP': 519, 'B155TYR': 520, 'B156ASP': 521, 'B157ARG': 522, 'B158LEU': 523, 'B159GLU': 524, 'B15VAL': 525, 'B160GLU': 526, 'B161ASN': 527, 'B162ALA': 528, 'B163ARG': 529, 'B164LEU': 530, 'B165PHE': 531, 'B166HIS': 532, 'B167PRO': 533, 'B168LYS': 534, 'B169LEU': 535, 'B16TYR': 536, 'B170ILE': 537, 'B171ILE': 538, 'B172ALA': 539, 'B173GLY': 540, 'B174THR': 541, 'B175SER': 542, 'B176CYS': 543, 'B177TYR': 544, 'B178SER': 545, 'B179ARG': 546, 'B17ASP': 547, 'B180ASN': 548, 'B181LEU': 549, 'B182ASP': 550, 'B183TYR': 551, 'B184GLY': 552, 'B185ARG': 553, 'B186LEU': 554, 'B187ARG': 555, 'B188LYS': 556, 'B189ILE': 557, 'B18ILE': 558, 'B190ALA': 559, 'B191ASP': 560, 'B192GLU': 561, 'B193ASN': 562, 'B194GLY': 563, 'B195ALA': 564, 'B196TYR': 565, 'B197LEU': 566, 'B198MET': 567, 'B199ALA': 568, 'B19ILE': 569, 'B1MET': 570, 'B200ASP': 571, 'B201MET': 572, 'B202ALA': 573, 'B203HIS': 574, 'B204ILE': 575, 'B205SER': 576, 'B206GLY': 577, 'B207LEU': 578, 'B208VAL': 579, 'B209VAL': 580, 'B20LYS': 581, 'B210ALA': 582, 'B211GLY': 583, 'B212VAL': 584, 'B213VAL': 585, 'B214PRO': 586, 'B215SER': 587, 'B216PRO': 588, 'B217PHE': 589, 'B218GLU': 590, 'B219HIS': 591, 'B21LYS': 592, 'B220CYS': 593, 'B221HIS': 594, 'B222VAL': 595, 'B223VAL': 596, 'B224THR': 597, 'B225THR': 598, 'B226THR': 599, 'B227THR': 600, 'B228HIS': 601, 'B229LYS': 602, 'B22GLU': 603, 'B230THR': 604, 'B231LEU': 605, 'B232ARG': 606, 'B233GLY': 607, 'B234CYS': 608, 'B235ARG': 609, 'B236ALA': 610, 'B237GLY': 611, 'B238MET': 612, 'B239ILE': 613, 'B23SER': 614, 'B240PHE': 615, 'B241TYR': 616, 'B242ARG': 617, 'B243ARG': 618, 'B244ARG': 619, 'B244ASP': 620, 'B244GLY': 621, 'B244PRO': 622, 'B244SER': 623, 'B244VAL': 624, 'B249TYR': 625, 'B24ASN': 626, 'B250ASN': 627, 'B250GLU': 628, 'B250LEU': 629, 'B251SER': 630, 'B252ILE': 631, 'B252LEU': 632, 'B253ASN': 633, 'B254SER': 634, 'B255ALA': 635, 'B256VAL': 636, 'B257PHE': 637, 'B258PRO': 638, 'B259GLY': 639, 'B25ARG': 640, 'B260LEU': 641, 'B261GLN': 642, 'B262GLY': 643, 'B263GLY': 644, 'B264PRO': 645, 'B265HIS': 646, 'B266ASN': 647, 'B267HIS': 648, 'B268ALA': 649, 'B269ILE': 650, 'B26GLN': 651, 'B270ALA': 652, 'B271GLY': 653, 'B272VAL': 654, 'B273ALA': 655, 'B274VAL': 656, 'B275ALA': 657, 'B276LEU': 658, 'B277LYS': 659, 'B278GLN': 660, 'B279ALA': 661, 'B27ARG': 662, 'B280MET': 663, 'B281THR': 664, 'B282PRO': 665, 'B283GLU': 666, 'B284PHE': 667, 'B285LYS': 668, 'B286GLU': 669, 'B287TYR': 670, 'B288GLN': 671, 'B289ARG': 672, 'B28VAL': 673, 'B290GLN': 674, 'B291VAL': 675, 'B292VAL': 676, 'B293ALA': 677, 'B294ASN': 678, 'B295CYS': 679, 'B296ARG': 680, 'B297ALA': 681, 'B298LEU': 682, 'B299SER': 683, 'B29GLY': 684, 'B2LEU': 685, 'B300ALA': 686, 'B301ALA': 687, 'B302LEU': 688, 'B303VAL': 689, 'B304GLU': 690, 'B305LEU': 691, 'B306GLY': 692, 'B307TYR': 693, 'B308LYS': 694, 'B309ILE': 695, 'B30LEU': 696, 'B310VAL': 697, 'B311THR': 698, 'B312GLY': 699, 'B313GLY': 700, 'B314SER': 701, 'B315ASP': 702, 'B316ASN': 703, 'B317HIS': 704, 'B318LEU': 705, 'B319ILE': 706, 'B31GLU': 707, 'B320LEU': 708, 'B321VAL': 709, 'B322ASP': 710, 'B323LEU': 711, 'B324ARG': 712, 'B326LYS': 713, 'B327GLY': 714, 'B328THR': 715, 'B329ASP': 716, 'B32LEU': 717, 'B330GLY': 718, 'B331GLY': 719, 'B332ARG': 720, 'B333ALA': 721, 'B334GLU': 722, 'B335LYS': 723, 'B336VAL': 724, 'B337LEU': 725, 'B338GLU': 726, 'B339ALA': 727, 'B33ILE': 728, 'B340CYS': 729, 'B341SER': 730, 'B342ILE': 731, 'B343ALA': 732, 'B344CYS': 733, 'B345ASN': 734, 'B346LYS': 735, 'B347ASN': 736, 'B348THR': 737, 'B349CYS': 738, 'B34ALA': 739, 'B350PRO': 740, 'B351GLY': 741, 'B354LYS': 742, 'B357LEU': 743, 'B358ARG': 744, 'B359PRO': 745, 'B35SER': 746, 'B360SER': 747, 'B361GLY': 748, 'B362LEU': 749, 'B363ARG': 750, 'B364LEU': 751, 'B365GLY': 752, 'B366THR': 753, 'B367PRO': 754, 'B368ALA': 755, 'B369LEU': 756, 'B36GLU': 757, 'B370THR': 758, 'B371SER': 759, 'B372ARG': 760, 'B373GLY': 761, 'B374GLU': 762, 'B374LEU': 763, 'B375LYS': 764, 'B376ASP': 765, 'B377PHE': 766, 'B378GLN': 767, 'B37ASN': 768, 'B382VAL': 769, 'B383ALA': 770, 'B384HIS': 771, 'B385PHE': 772, 'B386ILE': 773, 'B387HIS': 774, 'B388ARG': 775, 'B389GLY': 776, 'B38PHE': 777, 'B390ILE': 778, 'B391GLU': 779, 'B391LEU': 780, 'B392THR': 781, 'B393VAL': 782, 'B394ASP': 783, 'B394GLN': 784, 'B394ILE': 785, 'B395ASP': 786, 'B396ARG': 787, 'B396GLY': 788, 'B396PRO': 789, 'B396THR': 790, 'B397ALA': 791, 'B398THR': 792, 'B399GLU': 793, 'B399LEU': 794, 'B399LYS': 795, 'B399PHE': 796, 'B39ALA': 797, 'B3ALA': 798, 'B400GLU': 799, 'B404ASP': 800, 'B404GLU': 801, 'B405LYS': 802, 'B406GLN': 803, 'B406HIS': 804, 'B407ARG': 805, 'B408ALA': 806, 'B409VAL': 807, 'B40SER': 808, 'B410ARG': 809, 'B411ALA': 810, 'B411LEU': 811, 'B412ARG': 812, 'B413GLN': 813, 'B414GLU': 814, 'B415GLU': 815, 'B415SER': 816, 'B415VAL': 817, 'B416PHE': 818, 'B417ALA': 819, 'B418ALA': 820, 'B418GLY': 821, 'B418LEU': 822, 'B418PHE': 823, 'B418PRO': 824, 'B41ARG': 825, 'B42ALA': 826, 'B43VAL': 827, 'B44LEU': 828, 'B45GLU': 829, 'B46ALA': 830, 'B47LEU': 831, 'B48GLY': 832, 'B49SER': 833, 'B4GLN': 834, 'B50CYS': 835, 'B51LEU': 836, 'B52ASN': 837, 'B53ASN': 838, 'B54LYS': 839, 'B55TYR': 840, 'B56SER': 841, 'B57GLU': 842, 'B58GLY': 843, 'B59TYR': 844, 'B5PRO': 845, 'B60PRO': 846, 'B61GLY': 847, 'B62GLN': 848, 'B63ARG': 849, 'B64TYR': 850, 'B65TYR': 851, 'B66GLY': 852, 'B67GLY': 853, 'B68THR': 854, 'B69GLU': 855, 'B6LEU': 856, 'B70HIS': 857, 'B71ILE': 858, 'B72ASP': 859, 'B73GLU': 860, 'B74LEU': 861, 'B75GLU': 862, 'B76THR': 863, 'B77LEU': 864, 'B78CYS': 865, 'B79GLN': 866, 'B7LYS': 867, 'B80LYS': 868, 'B81ARG': 869, 'B82ALA': 870, 'B83LEU': 871, 'B84GLN': 872, 'B85ALA': 873, 'B86TYR': 874, 'B87GLY': 875, 'B88LEU': 876, 'B89ASP': 877, 'B89CYS': 878, 'B89GLN': 879, 'B89PRO': 880, 'B90TRP': 881, 'B91GLY': 882, 'B91VAL': 883, 'B92ASN': 884, 'B93VAL': 885, 'B94GLN': 886, 'B95PRO': 887, 'B96TYR': 888, 'B97SER': 889, 'B98GLY': 890, 'B99SER': 891, 'C-10ALA': 892, 'C-3GLN': 893, 'C-4GLU': 894, 'C-5HIS': 895, 'C-6SER': 896, 'C-7SER': 897, 'C-8TRP': 898, 'C-9LEU': 899, 'C100PRO': 900, 'C101ALA': 901, 'C102ASN': 902, 'C103PHE': 903, 'C104ALA': 904, 'C105VAL': 905, 'C106TYR': 906, 'C107THR': 907, 'C108ALA': 908, 'C109LEU': 909, 'C10ASP': 910, 'C110VAL': 911, 'C111GLU': 912, 'C112HIS': 913, 'C112PRO': 914, 'C113GLY': 915, 'C115ARG': 916, 'C116ILE': 917, 'C117MET': 918, 'C118GLY': 919, 'C119LEU': 920, 'C11SER': 921, 'C120ASP': 922, 'C121LEU': 923, 'C122PRO': 924, 'C123ASP': 925, 'C124GLY': 926, 'C125GLY': 927, 'C126HIS': 928, 'C127LEU': 929, 'C128THR': 930, 'C129HIS': 931, 'C12ASP': 932, 'C130GLY': 933, 'C131PHE': 934, 'C132MET': 935, 'C133THR': 936, 'C134ASP': 937, 'C134LYS': 938, 'C135ILE': 939, 'C136SER': 940, 'C137ALA': 941, 'C138SER': 942, 'C138THR': 943, 'C139ILE': 944, 'C13ALA': 945, 'C140PHE': 946, 'C141GLU': 947, 'C142SER': 948, 'C143MET': 949, 'C144ALA': 950, 'C145TYR': 951, 'C146LYS': 952, 'C147VAL': 953, 'C148ASN': 954, 'C149ASP': 955, 'C149PRO': 956, 'C14GLU': 957, 'C150THR': 958, 'C151GLY': 959, 'C152TYR': 960, 'C153ILE': 961, 'C154ASP': 962, 'C155TYR': 963, 'C156ASP': 964, 'C157ARG': 965, 'C158LEU': 966, 'C159GLU': 967, 'C15VAL': 968, 'C160GLU': 969, 'C161ASN': 970, 'C162ALA': 971, 'C163ARG': 972, 'C164LEU': 973, 'C165PHE': 974, 'C166HIS': 975, 'C167PRO': 976, 'C168LYS': 977, 'C169LEU': 978, 'C16TYR': 979, 'C170ILE': 980, 'C171ILE': 981, 'C172ALA': 982, 'C173GLY': 983, 'C174THR': 984, 'C175SER': 985, 'C176CYS': 986, 'C177TYR': 987, 'C178SER': 988, 'C179ARG': 989, 'C17ASP': 990, 'C180ASN': 991, 'C181LEU': 992, 'C182ASP': 993, 'C183TYR': 994, 'C184GLY': 995, 'C185ARG': 996, 'C186LEU': 997, 'C187ARG': 998, 'C188LYS': 999, 'C189ILE': 1000, 'C18ILE': 1001, 'C190ALA': 1002, 'C191ASP': 1003, 'C192GLU': 1004, 'C193ASN': 1005, 'C194GLY': 1006, 'C195ALA': 1007, 'C196TYR': 1008, 'C197LEU': 1009, 'C198MET': 1010, 'C199ALA': 1011, 'C19ILE': 1012, 'C1MET': 1013, 'C200ASP': 1014, 'C201MET': 1015, 'C202ALA': 1016, 'C203HIS': 1017, 'C204ILE': 1018, 'C205SER': 1019, 'C206GLY': 1020, 'C207LEU': 1021, 'C208VAL': 1022, 'C209VAL': 1023, 'C20LYS': 1024, 'C210ALA': 1025, 'C211GLY': 1026, 'C212VAL': 1027, 'C213VAL': 1028, 'C214PRO': 1029, 'C215SER': 1030, 'C216PRO': 1031, 'C217PHE': 1032, 'C218GLU': 1033, 'C219HIS': 1034, 'C21LYS': 1035, 'C220CYS': 1036, 'C221HIS': 1037, 'C222VAL': 1038, 'C223VAL': 1039, 'C224THR': 1040, 'C225THR': 1041, 'C226THR': 1042, 'C227THR': 1043, 'C228HIS': 1044, 'C229LYS': 1045, 'C22GLU': 1046, 'C230THR': 1047, 'C231LEU': 1048, 'C232ARG': 1049, 'C233GLY': 1050, 'C234CYS': 1051, 'C235ARG': 1052, 'C236ALA': 1053, 'C237GLY': 1054, 'C238MET': 1055, 'C239ILE': 1056, 'C23SER': 1057, 'C240PHE': 1058, 'C241TYR': 1059, 'C242ARG': 1060, 'C243ARG': 1061, 'C244ARG': 1062, 'C244GLY': 1063, 'C244VAL': 1064, 'C245LYS': 1065, 'C246GLU': 1066, 'C247ILE': 1067, 'C248LEU': 1068, 'C249TYR': 1069, 'C24ASN': 1070, 'C250ASN': 1071, 'C250GLU': 1072, 'C250LEU': 1073, 'C251SER': 1074, 'C252ILE': 1075, 'C252LEU': 1076, 'C253ASN': 1077, 'C254SER': 1078, 'C255ALA': 1079, 'C256VAL': 1080, 'C257PHE': 1081, 'C258PRO': 1082, 'C259GLY': 1083, 'C25ARG': 1084, 'C260LEU': 1085, 'C261GLN': 1086, 'C262GLY': 1087, 'C263GLY': 1088, 'C264PRO': 1089, 'C265HIS': 1090, 'C266ASN': 1091, 'C267HIS': 1092, 'C268ALA': 1093, 'C269ILE': 1094, 'C26GLN': 1095, 'C270ALA': 1096, 'C271GLY': 1097, 'C272VAL': 1098, 'C273ALA': 1099, 'C274VAL': 1100, 'C275ALA': 1101, 'C276LEU': 1102, 'C277LYS': 1103, 'C278GLN': 1104, 'C279ALA': 1105, 'C27ARG': 1106, 'C280MET': 1107, 'C281THR': 1108, 'C282PRO': 1109, 'C283GLU': 1110, 'C284PHE': 1111, 'C285LYS': 1112, 'C286GLU': 1113, 'C287TYR': 1114, 'C288GLN': 1115, 'C289ARG': 1116, 'C28VAL': 1117, 'C290GLN': 1118, 'C291VAL': 1119, 'C292VAL': 1120, 'C293ALA': 1121, 'C294ASN': 1122, 'C295CYS': 1123, 'C296ARG': 1124, 'C297ALA': 1125, 'C298LEU': 1126, 'C299SER': 1127, 'C29GLY': 1128, 'C2LEU': 1129, 'C300ALA': 1130, 'C301ALA': 1131, 'C302LEU': 1132, 'C303VAL': 1133, 'C304GLU': 1134, 'C305LEU': 1135, 'C306GLY': 1136, 'C307TYR': 1137, 'C308LYS': 1138, 'C309ILE': 1139, 'C30LEU': 1140, 'C310VAL': 1141, 'C311THR': 1142, 'C312GLY': 1143, 'C313GLY': 1144, 'C314SER': 1145, 'C315ASP': 1146, 'C316ASN': 1147, 'C317HIS': 1148, 'C318LEU': 1149, 'C319ILE': 1150, 'C31GLU': 1151, 'C320LEU': 1152, 'C321VAL': 1153, 'C322ASP': 1154, 'C323LEU': 1155, 'C324ARG': 1156, 'C325SER': 1157, 'C326LYS': 1158, 'C327GLY': 1159, 'C328THR': 1160, 'C329ASP': 1161, 'C32LEU': 1162, 'C330GLY': 1163, 'C331GLY': 1164, 'C332ARG': 1165, 'C333ALA': 1166, 'C334GLU': 1167, 'C335LYS': 1168, 'C336VAL': 1169, 'C337LEU': 1170, 'C338GLU': 1171, 'C339ALA': 1172, 'C33ILE': 1173, 'C340CYS': 1174, 'C341SER': 1175, 'C342ILE': 1176, 'C343ALA': 1177, 'C344CYS': 1178, 'C345ASN': 1179, 'C346LYS': 1180, 'C347ASN': 1181, 'C348THR': 1182, 'C349CYS': 1183, 'C34ALA': 1184, 'C350PRO': 1185, 'C351GLY': 1186, 'C352ASP': 1187, 'C354LYS': 1188, 'C355SER': 1189, 'C356ALA': 1190, 'C357LEU': 1191, 'C358ARG': 1192, 'C359PRO': 1193, 'C35SER': 1194, 'C360SER': 1195, 'C361GLY': 1196, 'C362LEU': 1197, 'C363ARG': 1198, 'C364LEU': 1199, 'C365GLY': 1200, 'C366THR': 1201, 'C367PRO': 1202, 'C368ALA': 1203, 'C369LEU': 1204, 'C36GLU': 1205, 'C370THR': 1206, 'C371SER': 1207, 'C372ARG': 1208, 'C373GLY': 1209, 'C374GLU': 1210, 'C374LEU': 1211, 'C375LYS': 1212, 'C376ASP': 1213, 'C377PHE': 1214, 'C378GLN': 1215, 'C37ASN': 1216, 'C382VAL': 1217, 'C383ALA': 1218, 'C384HIS': 1219, 'C385PHE': 1220, 'C386ILE': 1221, 'C387HIS': 1222, 'C388ARG': 1223, 'C389GLY': 1224, 'C38PHE': 1225, 'C390ILE': 1226, 'C391GLU': 1227, 'C391LEU': 1228, 'C392THR': 1229, 'C393VAL': 1230, 'C39ALA': 1231, 'C3ALA': 1232, 'C40SER': 1233, 'C41ARG': 1234, 'C42ALA': 1235, 'C43VAL': 1236, 'C44LEU': 1237, 'C45GLU': 1238, 'C46ALA': 1239, 'C47LEU': 1240, 'C48GLY': 1241, 'C49SER': 1242, 'C4GLN': 1243, 'C50CYS': 1244, 'C51LEU': 1245, 'C52ASN': 1246, 'C53ASN': 1247, 'C54LYS': 1248, 'C55TYR': 1249, 'C56SER': 1250, 'C57GLU': 1251, 'C58GLY': 1252, 'C59TYR': 1253, 'C5PRO': 1254, 'C60PRO': 1255, 'C61GLY': 1256, 'C62GLN': 1257, 'C63ARG': 1258, 'C64TYR': 1259, 'C65TYR': 1260, 'C66GLY': 1261, 'C67GLY': 1262, 'C68THR': 1263, 'C69GLU': 1264, 'C6LEU': 1265, 'C70HIS': 1266, 'C71ILE': 1267, 'C72ASP': 1268, 'C73GLU': 1269, 'C74LEU': 1270, 'C75GLU': 1271, 'C76THR': 1272, 'C77LEU': 1273, 'C78CYS': 1274, 'C79GLN': 1275, 'C7LYS': 1276, 'C80LYS': 1277, 'C81ARG': 1278, 'C82ALA': 1279, 'C83LEU': 1280, 'C84GLN': 1281, 'C85ALA': 1282, 'C86TYR': 1283, 'C87GLY': 1284, 'C88LEU': 1285, 'C89ASP': 1286, 'C89CYS': 1287, 'C89GLN': 1288, 'C89PRO': 1289, 'C90TRP': 1290, 'C91GLY': 1291, 'C91VAL': 1292, 'C92ASN': 1293, 'C93VAL': 1294, 'C94GLN': 1295, 'C95PRO': 1296, 'C96TYR': 1297, 'C97SER': 1298, 'C98GLY': 1299, 'C99SER': 1300}\n",
            "1301\n",
            "[   0    1    2 ... 1297 1298 1299]\n",
            "[   7    2    3 ... 1298 1299 1300]\n"
          ],
          "name": "stdout"
        }
      ]
    },
    {
      "cell_type": "code",
      "metadata": {
        "id": "SVMOe0XIGHgA",
        "colab_type": "code",
        "colab": {
          "base_uri": "https://localhost:8080/",
          "height": 336
        },
        "outputId": "21f3ed7b-27be-40c5-b28e-8ab3eb2e0c28"
      },
      "source": [
        "src = list()\n",
        "dst = list()\n",
        "\n",
        "# Get source and destination of edges\n",
        "for i in  graph[\"links\"]:\n",
        "  src.append(i['source'])\n",
        "  dst.append(i['target'])\n",
        "residues = list(sorted(set(src + dst)))\n",
        "# Creat map of AA number to nodes with starting idx 0\n",
        "node_idx  = 0\n",
        "previous_aa = residues[0]\n",
        "residue_map = dict()\n",
        "for i in range(0, len(residues)):\n",
        "  if residues[i] != previous_aa:\n",
        "    node_idx += 1\n",
        "  residue_map[residues[i]] = node_idx\n",
        "  \n",
        "  previous_aa = residues[i]\n",
        "\n",
        "# DGL graph has to start at 0 renumber AA\n",
        "src = np.array([residue_map[i] for i in src])\n",
        "dst = np.array([residue_map[i] for i in dst])\n",
        "\n",
        "#Make Graph bidirectional\n",
        "u = np.concatenate([src, dst])\n",
        "v = np.concatenate([dst, src])\n",
        "\n",
        "# Map features to node id\n",
        "node_map = dict()\n",
        "for i in graph[\"nodes\"]:\n",
        "  if i['id'] in residue_map.keys():\n",
        "    tmp = dict()\n",
        "    tmp['label'] = labels[i['id']] \n",
        "    #print(i[\"resi_num\"], i[\"resi_num\"])\n",
        "    node_map[i[\"id\"]] = {**i, **tmp}\n",
        "\n",
        "# Create DGL object\n",
        "G = dgl.DGLGraph((u,v))\n",
        "pos = nx.kamada_kawai_layout(G.to_networkx())\n",
        "nx.draw(G.to_networkx(), pos, with_labels=True)\n",
        "\n",
        "label_tensor = th.tensor([node_map[i]['label'] for i in node_map.keys()])\n",
        "print(label_tensor)\n",
        "# Add features to each node\n",
        "G.ndata['features'] = th.zeros(len(G), len(node_map[list(node_map.keys())[0]]['features'][0]))\n",
        "G.ndata['label'] = th.zeros(len(G), len(label_tensor))\n",
        "#print(G.ndata['features'])\n",
        "for i in node_map.keys():\n",
        "  #print(th.tensor(node_map[i]['features'][0]))\n",
        "  G.ndata['features'][residue_map[i]] = th.tensor(node_map[i]['features'][0])\n",
        "  G.ndata['label'][residue_map[i]] = label_tensor\n"
      ],
      "execution_count": 199,
      "outputs": [
        {
          "output_type": "stream",
          "text": [
            "tensor([0., 0., 0.,  ..., 0., 0., 0.])\n"
          ],
          "name": "stdout"
        },
        {
          "output_type": "display_data",
          "data": {
            "image/png": "[encoded data removed]",
            "text/plain": [
              "<Figure size 432x288 with 1 Axes>"
            ]
          },
          "metadata": {
            "tags": []
          }
        }
      ]
    },
    {
      "cell_type": "code",
      "metadata": {
        "id": "GeOyrKtXvOoU",
        "colab_type": "code",
        "colab": {
          "base_uri": "https://localhost:8080/",
          "height": 102
        },
        "outputId": "92241cd5-6755-4dc3-b8f5-2df6f9ec45ec"
      },
      "source": [
        "G.nodes[residue_map['A200ASP']]"
      ],
      "execution_count": 196,
      "outputs": [
        {
          "output_type": "execute_result",
          "data": {
            "text/plain": [
              "NodeSpace(data={'features': tensor([[ 0.0000,  0.0000,  0.0000,  1.0000,  0.0000,  0.0000,  0.0000,  0.0000,\n",
              "          0.0000,  0.0000,  0.0000,  0.0000,  0.0000,  0.0000,  0.0000,  0.0000,\n",
              "          0.0000,  0.0000,  0.0000,  0.0000,  0.0000,  0.0000,  0.0000, -1.7389,\n",
              "         -0.1438,  5.0000, 34.1857,  0.0000,  0.0000,  1.0000,  0.0000,  0.0000,\n",
              "          0.0000,  1.0000,  0.0000,  1.0000]]), 'label': tensor([[0., 0., 0.,  ..., 0., 0., 0.]])})"
            ]
          },
          "metadata": {
            "tags": []
          },
          "execution_count": 196
        }
      ]
    },
    {
      "cell_type": "code",
      "metadata": {
        "id": "oNt7jYFvtuiZ",
        "colab_type": "code",
        "colab": {
          "base_uri": "https://localhost:8080/",
          "height": 102
        },
        "outputId": "813cfbeb-0ba7-4be2-8118-e7be88fc68bc"
      },
      "source": [
        "G.nodes[residue_map['C200ASP']]"
      ],
      "execution_count": 209,
      "outputs": [
        {
          "output_type": "execute_result",
          "data": {
            "text/plain": [
              "NodeSpace(data={'features': tensor([[ 0.0000,  0.0000,  0.0000,  1.0000,  0.0000,  0.0000,  0.0000,  0.0000,\n",
              "          0.0000,  0.0000,  0.0000,  0.0000,  0.0000,  0.0000,  0.0000,  0.0000,\n",
              "          0.0000,  0.0000,  0.0000,  0.0000,  0.0000,  0.0000,  0.0000, -1.7389,\n",
              "         -0.1438,  5.0000, 34.2144,  0.0000,  0.0000,  1.0000,  0.0000,  0.0000,\n",
              "          0.0000,  1.0000,  0.0000,  1.0000]]), 'label': tensor([[0., 0., 0.,  ..., 0., 0., 0.]])})"
            ]
          },
          "metadata": {
            "tags": []
          },
          "execution_count": 209
        }
      ]
    },
    {
      "cell_type": "code",
      "metadata": {
        "id": "iYba1lKyubtc",
        "colab_type": "code",
        "colab": {
          "base_uri": "https://localhost:8080/",
          "height": 34
        },
        "outputId": "547f86ca-e748-42ea-b34a-6391b8210016"
      },
      "source": [
        "residue_map['B138SER']"
      ],
      "execution_count": 208,
      "outputs": [
        {
          "output_type": "execute_result",
          "data": {
            "text/plain": [
              "499"
            ]
          },
          "metadata": {
            "tags": []
          },
          "execution_count": 208
        }
      ]
    },
    {
      "cell_type": "code",
      "metadata": {
        "id": "xU7B9UsZkpIx",
        "colab_type": "code",
        "colab": {
          "base_uri": "https://localhost:8080/",
          "height": 164
        },
        "outputId": "9eb2ba1b-7425-4925-e901-3b789df03369"
      },
      "source": [
        "node_map['D200ASP']"
      ],
      "execution_count": 218,
      "outputs": [
        {
          "output_type": "error",
          "ename": "KeyError",
          "evalue": "ignored",
          "traceback": [
            "\u001b[0;31m---------------------------------------------------------------------------\u001b[0m",
            "\u001b[0;31mKeyError\u001b[0m                                  Traceback (most recent call last)",
            "\u001b[0;32m<ipython-input-218-03fcccc9273c>\u001b[0m in \u001b[0;36m<module>\u001b[0;34m()\u001b[0m\n\u001b[0;32m----> 1\u001b[0;31m \u001b[0mnode_map\u001b[0m\u001b[0;34m[\u001b[0m\u001b[0;34m'D200ASP'\u001b[0m\u001b[0;34m]\u001b[0m\u001b[0;34m\u001b[0m\u001b[0;34m\u001b[0m\u001b[0m\n\u001b[0m",
            "\u001b[0;31mKeyError\u001b[0m: 'D200ASP'"
          ]
        }
      ]
    },
    {
      "cell_type": "code",
      "metadata": {
        "id": "4tYSbPPxFXOF",
        "colab_type": "code",
        "colab": {}
      },
      "source": [
        "#Lucas end of experiment"
      ],
      "execution_count": null,
      "outputs": []
    },
    {
      "cell_type": "code",
      "metadata": {
        "id": "CbwHxl3Y5K37",
        "colab_type": "code",
        "colab": {}
      },
      "source": [
        "class CustomDataset(Dataset):\n",
        "    def __init__(self, path):\n",
        "      json_files = glob.glob(os.path.join(path, \"*.json\"))\n",
        "      self.graphs=[]\n",
        "      for fname in tqdm(json_files):\n",
        "        with open(fname, 'r') as json_file:\n",
        "          data = json.load(json_file) \n",
        "          graph = json.loads(data[0])\n",
        "          labels = json.loads(data[1])\n",
        "        \n",
        "        src = list()\n",
        "        dst = list()\n",
        "\n",
        "  # Get source and destination of edges\n",
        "        for i in  graph[\"links\"]:\n",
        "          src.append(i['source'])\n",
        "          dst.append(i['target'])\n",
        "        residues = list(sorted(set(src + dst)))\n",
        "  # Creat map of AA number to nodes with starting idx 0\n",
        "        node_idx  = 0\n",
        "        previous_aa = residues[0]\n",
        "        residue_map = dict()\n",
        "        for i in range(0, len(residues)):\n",
        "          if residues[i] != previous_aa:\n",
        "            node_idx += 1\n",
        "          residue_map[residues[i]] = node_idx\n",
        "          \n",
        "          previous_aa = residues[i]\n",
        "  # DGL graph has to start at 0 renumber AA\n",
        "        src = np.array([residue_map[i] for i in src])\n",
        "        dst = np.array([residue_map[i] for i in dst])\n",
        "\n",
        "  #Make Graph bidirectional\n",
        "        u = np.concatenate([src, dst])\n",
        "        v = np.concatenate([dst, src])\n",
        "\n",
        "  # Map features to node id\n",
        "        node_map = dict()\n",
        "        for i in graph[\"nodes\"]:\n",
        "          if i['id'] in residue_map.keys():\n",
        "            tmp = dict()\n",
        "            tmp['label'] = labels[i['id']] \n",
        "            node_map[i[\"id\"]] = {**i, **tmp}\n",
        "  # Create DGL object\n",
        "        G = dgl.DGLGraph((u,v))\n",
        "      \n",
        "        label_tensor = th.tensor([node_map[i]['label'] for i in node_map.keys()])\n",
        "\n",
        "\n",
        "  # Add features to each node\n",
        "        G.ndata['features'] = th.zeros(len(G), len(node_map[list(node_map.keys())[0]]['features'][0]))\n",
        "        G.ndata['label'] = th.zeros(len(G), len(label_tensor))\n",
        "      \n",
        "\n",
        "        for i in node_map.keys():\n",
        "          \n",
        "          G.ndata['features'][residue_map[i]] = th.tensor(node_map[i]['features'][0])\n",
        "          G.ndata['label'][residue_map[i]] = label_tensor      \n",
        "\n",
        "      \n",
        "        self.graphs.append(G)\n",
        "        \n",
        "          \n",
        "    def __len__(self):\n",
        "       \n",
        "        return len(self.graphs)\n",
        "\n",
        "\n",
        "    def __getitem__(self, idx):\n",
        "        \n",
        "    \n",
        "        return self.graphs[idx], self.graphs[idx].ndata['label']"
      ],
      "execution_count": 200,
      "outputs": []
    },
    {
      "cell_type": "code",
      "metadata": {
        "id": "IDvYBDIdcFNp",
        "colab_type": "code",
        "colab": {
          "base_uri": "https://localhost:8080/",
          "height": 66,
          "referenced_widgets": [
            "a192c03802514892960140d91120559a",
            "e19981e0ed0a41029d306572e88d28be",
            "bc2c38067a4b4b0da7a47275d4674bed",
            "c68e6320635e46e2ae0f51ff85c64873",
            "9f81ba30d04347e887dda1d4aabb9473",
            "3bcd9175057f48a7b25fbc175de06fa5",
            "242c8feed0064dd886f7b644cdc8c3e9",
            "12734e9617ee4de48c7e75275e394732"
          ]
        },
        "outputId": "4a1595e0-d26f-4c5b-a41a-19b9810565f4"
      },
      "source": [
        "\n",
        "#train_ds=CustomDataset('/content/json/')\n",
        "train_ds = CustomDataset(\"/content/drive/My Drive/PhD/Homework/DL_project/data/json/\") "
      ],
      "execution_count": 201,
      "outputs": [
        {
          "output_type": "display_data",
          "data": {
            "application/vnd.jupyter.widget-view+json": {
              "model_id": "a192c03802514892960140d91120559a",
              "version_minor": 0,
              "version_major": 2
            },
            "text/plain": [
              "HBox(children=(FloatProgress(value=0.0, max=745.0), HTML(value='')))"
            ]
          },
          "metadata": {
            "tags": []
          }
        },
        {
          "output_type": "stream",
          "text": [
            "\n"
          ],
          "name": "stdout"
        }
      ]
    },
    {
      "cell_type": "code",
      "metadata": {
        "id": "fQh98vz25TFF",
        "colab_type": "code",
        "colab": {}
      },
      "source": [
        "def collate(samples):\n",
        "    \n",
        "    # The input `samples` is a list, a batch of whatever comes out of your dataset object\n",
        "    \n",
        "    graphs = [x[0] for x in samples]\n",
        "    labels = [x[1] for x in samples]\n",
        "    \n",
        "    batched_graph = dgl.batch(graphs,node_attrs=['node_features'])\n",
        "    targets = torch.cat(labels)\n",
        "    \n",
        "    return batched_graph, targets.unsqueeze(1).float()"
      ],
      "execution_count": null,
      "outputs": []
    },
    {
      "cell_type": "code",
      "metadata": {
        "id": "HpgcWJVT5Zoa",
        "colab_type": "code",
        "colab": {
          "base_uri": "https://localhost:8080/",
          "height": 129
        },
        "outputId": "d9bd8447-1023-407e-bca8-20d9e5c12506"
      },
      "source": [
        "from google.colab import drive\n",
        "drive.mount('/content/drive')"
      ],
      "execution_count": null,
      "outputs": [
        {
          "output_type": "stream",
          "text": [
            "Go to this URL in a browser: https://accounts.google.com/o/oauth2/auth?client_id=947318989803-6bn6qk8qdgf4n4g3pfee6491hc0brc4i.apps.googleusercontent.com&redirect_uri=urn%3aietf%3awg%3aoauth%3a2.0%3aoob&scope=email%20https%3a%2f%2fwww.googleapis.com%2fauth%2fdocs.test%20https%3a%2f%2fwww.googleapis.com%2fauth%2fdrive%20https%3a%2f%2fwww.googleapis.com%2fauth%2fdrive.photos.readonly%20https%3a%2f%2fwww.googleapis.com%2fauth%2fpeopleapi.readonly&response_type=code\n",
            "\n",
            "Enter your authorization code:\n",
            "··········\n",
            "Mounted at /content/drive\n"
          ],
          "name": "stdout"
        }
      ]
    },
    {
      "cell_type": "code",
      "metadata": {
        "id": "wWc_VFdHRMTy",
        "colab_type": "code",
        "colab": {}
      },
      "source": [
        "class EdgeNetwork(nn.Module):\n",
        "    def __init__(self):\n",
        "        super(EdgeNetwork, self).__init__()\n",
        "        \n",
        "        self.edgelayer1=nn.Linear(128*2+36*2,128)\n",
        "        self.edgelayer2=nn.Linear(128,256)\n",
        "        \n",
        "    def forward(self, x):\n",
        "      #print(x.dst['node_features'].shape,x.src['node_hidden_state'].shape)\n",
        "      x=torch.cat((x.dst['features'], x.dst['node_hidden_state'],x.src['features'], x.src['node_hidden_state']),dim=1)\n",
        "      #print(x.shape)\n",
        "      output=F.relu(self.edgelayer1(x))  \n",
        "        #your input x is an object with the following properties:\n",
        "        #x.dst['node_features'], x.dst['node_hidden_state']\n",
        "        #x.src['node_features'], x.src['node_hidden_state']\n",
        "        #x.data['distance']\n",
        "        \n",
        "        #put them together with torch.cat\n",
        "        \n",
        "        #use a neural network to create an edge hidden represetation - \n",
        "        \n",
        "        #you return a dictionary with what you want to \"send\" to the reciving node\n",
        "      output=self.edgelayer2(output) \n",
        "      return {'edge hidden represetation': output }\n",
        "\n",
        "    \n",
        "class NodeNetwork(nn.Module):\n",
        "    def __init__(self):\n",
        "        super(NodeNetwork, self).__init__()\n",
        "        self.nodelayer1=nn.Linear(256+128+36,256)\n",
        "        self.nodelayer2=nn.Linear(256,128)\n",
        "        \n",
        "    def forward(self, x):\n",
        "      x_sum=torch.mean(x.mailbox['edge hidden represetation'],dim=1)\n",
        "      #print(x_sum.shape, x.data['node_hidden_state'].shape, x.data['node_features'].shape)\n",
        "      x=torch.cat((x_sum,x.data['node_hidden_state'], x.data['features']),dim=1)\n",
        "      out=F.relu(self.nodelayer1(x))        \n",
        "        #this time your input x has:\n",
        "        # x.mailbox['edge hidden represetation'] -> this is what you send with the edge update function above - \n",
        "        # it will have the size of the node neighborhood - \n",
        "        # (Batch size, number of nodes in neighborhood, edge hidden rep size), so you need to sum/mean over dim=1 \n",
        "        # x.data['node_hidden_state'] and x.data['node_features'] (this is the existing state of your node)\n",
        "        # you need to torch.cat the message sum, node hidden state, and node features \n",
        "        #- and then apply some fully connected neural network\n",
        "        \n",
        "        # return a new hidden state for the node\n",
        "      out=self.nodelayer2(out)\n",
        "      return {'node_hidden_state': out }\n",
        "\n",
        "class NodeNetworkClassifeir(nn.Module):\n",
        "    def __init__(self):\n",
        "        super(NodeNetworkClassifeir, self).__init__()\n",
        "        \n",
        "        self.nodelayerC1=nn.Linear(36+128,64)\n",
        "        self.nodelayerC2=nn.Linear(64,1)\n",
        "        \n",
        "    def forward(self, x):\n",
        "      #x_sum=torch.mean(x.mailbox['edge hidden represetation'],dim=1)\n",
        "      x=torch.cat((x.data['features'], x.data['node_hidden_state']),dim=1)\n",
        "      output=F.relu(self.nodelayerC1(x))  \n",
        "        \n",
        "      output=self.nodelayerC2(output) \n",
        "      return {'node_class_prediction': output }\n",
        "\n",
        "\n",
        "class Classifier(nn.Module):\n",
        "    def __init__(self):\n",
        "        super(Classifier, self).__init__()\n",
        "        \n",
        "        # you need to create a network that \n",
        "        # will initialize your node hidden state based only on the node features -\n",
        "        self.node_feat_size=g.ndata['features'].shape[1]\n",
        "        self.node_hid_size=128\n",
        "        self.node_init = nn.Sequential(\n",
        "                nn.Linear(36,64),\n",
        "                nn.ReLU(),\n",
        "            nn.Linear(64,self.node_hid_size))\n",
        "        \n",
        "        self.edge_network = EdgeNetwork()\n",
        "        self.node_network = NodeNetwork()\n",
        "        \n",
        "        #this edge classifier is also an edge update function - \n",
        "        #but it needs to return something of size 1 (the edge class prediction)\n",
        "        #so either create a different model for this, or make the EdgeNetwork configurable\n",
        "        self.node_classifier = NodeNetworkClassifeir()\n",
        "        \n",
        "    def forward(self, g):\n",
        "        \n",
        "        g.ndata['node_hidden_state'] = self.node_init(g.ndata['features'])\n",
        "        #print(g.ndata['node_hidden_state'].shape)\n",
        "        for i in range(8):\n",
        "            \n",
        "            g.update_all(self.edge_network,self.node_network)\n",
        "            \n",
        "        \n",
        "        #we want to classify the nodes - so finally apply your edge classifier -\n",
        "        g.apply_nodes(self.node_classifier)\n",
        "        \n",
        "        #and extract its output \n",
        "        out = g.ndata['node_class_prediction']\n",
        "\n",
        "        \n",
        "        return out "
      ],
      "execution_count": null,
      "outputs": []
    },
    {
      "cell_type": "code",
      "metadata": {
        "id": "FUDrgOPfp3kz",
        "colab_type": "code",
        "colab": {}
      },
      "source": [
        "net=Classifier()"
      ],
      "execution_count": null,
      "outputs": []
    },
    {
      "cell_type": "code",
      "metadata": {
        "id": "ZRsEdIKAwJU6",
        "colab_type": "code",
        "colab": {}
      },
      "source": [
        "perd=net(train_ds[0][0])"
      ],
      "execution_count": null,
      "outputs": []
    },
    {
      "cell_type": "code",
      "metadata": {
        "id": "68YTSKjD3Jf_",
        "colab_type": "code",
        "colab": {
          "base_uri": "https://localhost:8080/",
          "height": 35
        },
        "outputId": "012b11eb-9da3-4738-e357-090e771d1a13"
      },
      "source": [
        "len(perd)"
      ],
      "execution_count": null,
      "outputs": [
        {
          "output_type": "execute_result",
          "data": {
            "text/plain": [
              "313"
            ]
          },
          "metadata": {
            "tags": []
          },
          "execution_count": 145
        }
      ]
    },
    {
      "cell_type": "code",
      "metadata": {
        "id": "WfaeGrH6LTfY",
        "colab_type": "code",
        "colab": {}
      },
      "source": [
        "# the basic \"graph attention layer\" and the way to pass the information from node to node\n",
        "\n",
        "class GATLayer(nn.Module):\n",
        "    def __init__(self, g, in_dim, out_dim):\n",
        "        super(GATLayer, self).__init__()\n",
        "        self.g = g\n",
        "        # equation (1)\n",
        "        self.fc = nn.Linear(in_dim, out_dim, bias=False)\n",
        "        # equation (2)\n",
        "        self.attn_fc = nn.Linear(2 * out_dim, 1, bias=False)\n",
        "        self.reset_parameters()\n",
        "\n",
        "    def reset_parameters(self):\n",
        "        \"\"\"Reinitialize learnable parameters.\"\"\"\n",
        "        gain = nn.init.calculate_gain('relu')\n",
        "        nn.init.xavier_normal_(self.fc.weight, gain=gain)\n",
        "        nn.init.xavier_normal_(self.attn_fc.weight, gain=gain)\n",
        "\n",
        "    def edge_attention(self, edges):\n",
        "        # edge UDF for equation (2)\n",
        "        z2 = torch.cat([edges.src['z'], edges.dst['z']], dim=1)\n",
        "        a = self.attn_fc(z2)\n",
        "        return {'e': F.leaky_relu(a)}\n",
        "\n",
        "    def message_func(self, edges):\n",
        "        # message UDF for equation (3) & (4)\n",
        "        return {'z': edges.src['z'], 'e': edges.data['e']}\n",
        "\n",
        "    def reduce_func(self, nodes):\n",
        "        # reduce UDF for equation (3) & (4)\n",
        "        # equation (3)\n",
        "        alpha = F.softmax(nodes.mailbox['e'], dim=1)\n",
        "        # equation (4)\n",
        "        h = torch.sum(alpha * nodes.mailbox['z'], dim=1)\n",
        "        return {'h': h}\n",
        "\n",
        "    def forward(self, h):\n",
        "        # equation (1)\n",
        "        z = self.fc(h)\n",
        "        self.g.ndata['z'] = z\n",
        "        # equation (2)\n",
        "        self.g.apply_edges(self.edge_attention)\n",
        "        # equation (3) & (4)\n",
        "        self.g.update_all(self.message_func, self.reduce_func)\n",
        "        return self.g.ndata.pop('h')"
      ],
      "execution_count": null,
      "outputs": []
    },
    {
      "cell_type": "code",
      "metadata": {
        "id": "VTAasXp_LA-k",
        "colab_type": "code",
        "colab": {}
      },
      "source": [
        "class MultiHeadGATLayer(nn.Module):\n",
        "    def __init__(self, g, in_dim, out_dim, num_heads, merge='cat'):\n",
        "        super(MultiHeadGATLayer, self).__init__()\n",
        "        self.heads = nn.ModuleList()\n",
        "        for i in range(num_heads):\n",
        "            self.heads.append(GATLayer(g, in_dim, out_dim))\n",
        "        self.merge = merge\n",
        "\n",
        "    def forward(self, h):\n",
        "        head_outs = [attn_head(h) for attn_head in self.heads]\n",
        "        if self.merge == 'cat':\n",
        "            # concat on the output feature dimension (dim=1)\n",
        "            return torch.cat(head_outs, dim=1)\n",
        "        else:\n",
        "            # merge using average\n",
        "            return torch.mean(torch.stack(head_outs))"
      ],
      "execution_count": null,
      "outputs": []
    },
    {
      "cell_type": "code",
      "metadata": {
        "id": "dJFkebu2LBEJ",
        "colab_type": "code",
        "colab": {}
      },
      "source": [
        "#the real model\n",
        "class GAT(nn.Module):\n",
        "    def __init__(self, g, in_dim, hidden_dim, out_dim, num_heads):\n",
        "        super(GAT, self).__init__()\n",
        "        self.layer1 = MultiHeadGATLayer(g, in_dim, hidden_dim, num_heads)\n",
        "        # Be aware that the input dimension is hidden_dim*num_heads since\n",
        "        # multiple head outputs are concatenated together. Also, only\n",
        "        # one attention head in the output layer.\n",
        "        self.layer2 = MultiHeadGATLayer(g, hidden_dim * num_heads, out_dim, 1)\n",
        "\n",
        "    def forward(self, h):\n",
        "        h = self.layer1(h)\n",
        "        h = F.elu(h)\n",
        "        h = self.layer2(h)\n",
        "        return h"
      ],
      "execution_count": null,
      "outputs": []
    },
    {
      "cell_type": "code",
      "metadata": {
        "id": "teKU7eCyLBNj",
        "colab_type": "code",
        "colab": {}
      },
      "source": [
        "# loading data here \n",
        "data_loader = DataLoader(train_ds, batch_size=30, shuffle=True,\n",
        "                         collate_fn=collate)\n",
        "data_loader_test=DataLoader(test_ds, batch_size=30,shuffle=True,collate_fn=collate)"
      ],
      "execution_count": null,
      "outputs": []
    },
    {
      "cell_type": "code",
      "metadata": {
        "id": "Od4kmxAM2IUK",
        "colab_type": "code",
        "colab": {}
      },
      "source": [
        "loss_func = nn.BCEWithLogitsLoss()\n",
        "optimizer = optim.Adam(net.parameters(), lr=0.001)"
      ],
      "execution_count": null,
      "outputs": []
    },
    {
      "cell_type": "code",
      "metadata": {
        "id": "jr5q9IKK2LXF",
        "colab_type": "code",
        "colab": {}
      },
      "source": [
        "if torch.cuda.is_available():\n",
        "    net.cuda()\n",
        "use_cuda = torch.cuda.is_available()\n",
        "device = torch.device('cuda:0' if use_cuda else 'cpu')"
      ],
      "execution_count": null,
      "outputs": []
    },
    {
      "cell_type": "code",
      "metadata": {
        "id": "a7xGMhPvolsG",
        "colab_type": "code",
        "colab": {}
      },
      "source": [
        "##training for simple net\n",
        "n_epoch = 20\n",
        "\n",
        "epoch_losses, epoch_val_losses = [], []\n",
        "for epoch in range(1, n_epoch+1):\n",
        "    epoch_loss = 0\n",
        "    iter_batch = 0\n",
        "    net.train()\n",
        "    for x, y in data_loader:\n",
        "      x = x.to(torch.device('cuda'))\n",
        "      y = y.cuda()\n",
        "\n",
        "      prediction = net(x)\n",
        "        \n",
        "      loss = loss_func(prediction, y )\n",
        "      optimizer.zero_grad()\n",
        "      loss.backward()\n",
        "      optimizer.step()\n",
        "      epoch_loss += loss.detach().item()\n",
        "      iter_batch += 1\n",
        "    epoch_loss /= (iter_batch + 1)\n",
        "    #print('Epoch {}, loss {:.4f}'.format(epoch, epoch_loss))\n",
        "    epoch_losses.append(epoch_loss)\n",
        "    \n",
        "    \n",
        "    epoch_val_loss = 0\n",
        "    iter_batch_val = 0\n",
        "    net.eval()\n",
        "    for bg, label in data_loader_test:\n",
        "      bg=bg.to(torch.device('cuda'))\n",
        "      label=label.cuda()   \n",
        "      prediction = net(bg)\n",
        "      loss = loss_func(prediction, label )\n",
        "      epoch_val_loss += loss.detach().item()\n",
        "      iter_batch_val += 1\n",
        "    epoch_val_loss /= (iter_batch_val + 1)\n",
        "    #print('Epoch {}, loss {:.4f}'.format(epoch, epoch_loss))\n",
        "    epoch_val_losses.append(epoch_val_loss)\n",
        "    print('Epoch {}, loss {:.4f}, val_loss {:.4f}'.format(epoch, epoch_loss, epoch_val_loss))"
      ],
      "execution_count": null,
      "outputs": []
    },
    {
      "cell_type": "code",
      "metadata": {
        "id": "iH-S74PsLf2i",
        "colab_type": "code",
        "colab": {}
      },
      "source": [
        "##training.\n",
        "\n",
        "import time\n",
        "import numpy as np\n",
        "\n",
        "g, features, labels, mask = load_cora_data()\n",
        "\n",
        "# create the model, 2 heads, each head has hidden size 8\n",
        "net = GAT(g,\n",
        "          in_dim=features.size()[1],\n",
        "          hidden_dim=8,\n",
        "          out_dim=7,\n",
        "          num_heads=2)\n",
        "\n",
        "# create optimizer\n",
        "optimizer = torch.optim.Adam(net.parameters(), lr=1e-3)\n",
        "\n",
        "# main loop\n",
        "dur = []\n",
        "for epoch in range(30):\n",
        "    if epoch >= 3:\n",
        "        t0 = time.time()\n",
        "\n",
        "    logits = net(features)\n",
        "    logp = F.log_softmax(logits, 1)\n",
        "    loss = F.nll_loss(logp[mask], labels[mask])\n",
        "\n",
        "    optimizer.zero_grad()\n",
        "    loss.backward()\n",
        "    optimizer.step()\n",
        "\n",
        "    if epoch >= 3:\n",
        "        dur.append(time.time() - t0)\n",
        "\n",
        "    print(\"Epoch {:05d} | Loss {:.4f} | Time(s) {:.4f}\".format(\n",
        "        epoch, loss.item(), np.mean(dur)))"
      ],
      "execution_count": null,
      "outputs": []
    }
  ]
}